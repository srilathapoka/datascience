{
 "cells": [
  {
   "cell_type": "markdown",
   "metadata": {},
   "source": [
    "# EDA MID EXAM MODEL PAPER"
   ]
  },
  {
   "cell_type": "markdown",
   "metadata": {},
   "source": [
    "---------------------------"
   ]
  },
  {
   "cell_type": "markdown",
   "metadata": {},
   "source": [
    "# SECTION A: 8 MARKS"
   ]
  },
  {
   "cell_type": "markdown",
   "metadata": {},
   "source": [
    "--------------"
   ]
  },
  {
   "cell_type": "markdown",
   "metadata": {},
   "source": [
    "### 1. What is the difference between missing value and an outlier? (8 MARKS)"
   ]
  },
  {
   "cell_type": "code",
   "execution_count": null,
   "metadata": {},
   "outputs": [],
   "source": []
  },
  {
   "cell_type": "markdown",
   "metadata": {},
   "source": [
    "# SECTION B: 17 MARKS"
   ]
  },
  {
   "cell_type": "markdown",
   "metadata": {},
   "source": [
    "-------------"
   ]
  },
  {
   "cell_type": "markdown",
   "metadata": {},
   "source": [
    "### Data Set Information: "
   ]
  },
  {
   "cell_type": "markdown",
   "metadata": {},
   "source": [
    "\n",
    "\n",
    "* Year\t\n",
    "\n",
    "* TSU\t\n",
    "\n",
    "* EQ\t\n",
    "\n",
    "* Name\t\n",
    "\n",
    "* Elevation\t\n",
    "\n",
    "* Type\t\n",
    "\n",
    "* Status\t\n",
    "\n",
    "* Time\t\n",
    "\n",
    "* VEI\t\n",
    "\n",
    "* Agent\t\n",
    "\n",
    "* DEATHS\t\n",
    "\n",
    "* DEATHS_DESCRIPTION\t\n",
    "\n",
    "* MISSING\t\n",
    "\n",
    "* MISSING_DESCRIPTION\t\n",
    "\n",
    "* INJURIES\t\n",
    "\n",
    "* INJURIES_DESCRIPTION\t\n",
    "\n",
    "* DAMAGE_MILLIONS_DOLLARS\t\n",
    "\n",
    "* DAMAGE_DESCRIPTION\t\n",
    "\n",
    "* HOUSES_DESTROYED\t\n",
    "\n",
    "* HOUSES_DESTROYED_DESCRIPTION\t\n",
    "\n",
    "* TOTAL_DEATHS\t\n",
    "\n",
    "* TOTAL_DEATHS_DESCRIPTION\t\n",
    "\n",
    "* TOTAL_MISSING\t\n",
    "\n",
    "* TOTAL_MISSING_DESCRIPTION\t\n",
    "\n",
    "* TOTAL_INJURIES\t\n",
    "\n",
    "* TOTAL_INJURIES_DESCRIPTION\t\n",
    "\n",
    "* TOTAL_DAMAGE_MILLIONS_DOLLARS\t\n",
    "\n",
    "* TOTAL_DAMAGE_DESCRIPTION\t\n",
    "\n",
    "* TOTAL_HOUSES_DESTROYED\t\n",
    "\n",
    "* TOTAL_HOUSES_DESTROYED_DESCRIPTION\t\n",
    "\n",
    "* Latitude\t\n",
    "\n",
    "* Longitude\t\n",
    "\n",
    "* Country\n"
   ]
  },
  {
   "cell_type": "code",
   "execution_count": null,
   "metadata": {},
   "outputs": [],
   "source": [
    "# Kindly change the below cells from markdown to code and execute it "
   ]
  },
  {
   "cell_type": "markdown",
   "metadata": {},
   "source": [
    "import pandas as pd\n",
    "\n",
    "import csv\n",
    "\n",
    "with open(\"data_set.csv\",\"r\")as file:\n",
    "\n",
    "reader=csv.reader(file) df=pd.read_csv(\"data_set.csv\")\n",
    "\n",
    "df.head()\n",
    "\n"
   ]
  },
  {
   "cell_type": "markdown",
   "metadata": {},
   "source": [
    "### 2. Read the dataset and answer the below questions\n",
    "  \n",
    "  \n",
    " A. Compare the 'Country' and 'Status' variable and provide inferences about the volcanic eruptions. (5 marks) \n",
    " \n",
    " b. Drop the columns which contain more than 50% of null values, name the new data frame as data_new (6 MARKS)\n",
    "\n",
    " c. Display pairplot for only the numerical variables, state your observations with respective to skewness (6 MARKS)"
   ]
  },
  {
   "cell_type": "code",
   "execution_count": null,
   "metadata": {},
   "outputs": [],
   "source": []
  },
  {
   "cell_type": "markdown",
   "metadata": {},
   "source": [
    "# SECTION C: 15 MARKS"
   ]
  },
  {
   "cell_type": "markdown",
   "metadata": {},
   "source": [
    "### 3. Uing the same dataset ansewr the below questions\n",
    "  \n",
    "  \n",
    " a. Construct a correlation matrix for only the numerical variables, state your observations (10 MARKS)\n",
    "  \n",
    " b. Convert the categorical variables into numeric (Name, Country, Type, Status and Time) and check for the data types (10 MARKS)\n",
    "  \n",
    " c. Create box plots to visualize the distribution statistics of the features on the basis of the variable 'Country', state your observations (5 MARKS)"
   ]
  },
  {
   "cell_type": "code",
   "execution_count": null,
   "metadata": {},
   "outputs": [],
   "source": []
  }
 ],
 "metadata": {
  "kernelspec": {
   "display_name": "Python 3",
   "language": "python",
   "name": "python3"
  },
  "language_info": {
   "codemirror_mode": {
    "name": "ipython",
    "version": 3
   },
   "file_extension": ".py",
   "mimetype": "text/x-python",
   "name": "python",
   "nbconvert_exporter": "python",
   "pygments_lexer": "ipython3",
   "version": "3.8.5"
  }
 },
 "nbformat": 4,
 "nbformat_minor": 2
}
