{
 "cells": [
  {
   "cell_type": "markdown",
   "metadata": {
    "colab_type": "text",
    "id": "6upW70UogPjj"
   },
   "source": [
    "# EDA Model Paper"
   ]
  },
  {
   "cell_type": "markdown",
   "metadata": {
    "colab_type": "text",
    "id": "33QN6mLMgPjk"
   },
   "source": [
    "\n",
    "\n",
    "\n",
    "### We combined three datasets in single CSV file mention below columns belongs to \n",
    "\n",
    "\n",
    "### German Credit Data\n",
    "\n"
   ]
  },
  {
   "cell_type": "markdown",
   "metadata": {
    "colab_type": "text",
    "id": "ZUcR6-xmgPjl"
   },
   "source": [
    "\n",
    "* checkin_acc\t\n",
    "* duration\t\n",
    "* credit_history\t\n",
    "* amount\t\n",
    "* savings_acc\t\n",
    "* present_emp_since\t\n",
    "* inst_rate\t\n",
    "* personal_status\t\n",
    "* residing_since\t\n",
    "* age\t\n",
    "* inst_plans\t\n",
    "* num_credits\t\n",
    "* job\t\n",
    "* status"
   ]
  },
  {
   "cell_type": "markdown",
   "metadata": {
    "colab_type": "text",
    "id": "EGslFyiNgPjl"
   },
   "source": [
    "###    data_eda\n",
    "\n",
    "\n",
    "* year\t\n",
    "* region\t\n",
    "* npg\t\n",
    "* birth_rate\t\n",
    "* death_rate\t\n",
    "* migratory_growth\t\n",
    "* population"
   ]
  },
  {
   "cell_type": "markdown",
   "metadata": {
    "colab_type": "text",
    "id": "rA5FLKcPgPjm"
   },
   "source": [
    "### Indian_cities"
   ]
  },
  {
   "cell_type": "markdown",
   "metadata": {
    "colab_type": "text",
    "id": "zPc8ayi3gPjm"
   },
   "source": [
    "\n",
    "'name_of_city'                  : Name of the City \n",
    "\n",
    "'state_code'                    : State Code of the City\n",
    "\n",
    "'state_name'                    : State Name of the City\n",
    "\n",
    "'dist_code'                     : District Code where the city belongs ( 99 means multiple district ) \n",
    "\n",
    "'population_total'              : Total Population\n",
    "\n",
    "'population_male'               : Male Population \n",
    "\n",
    "'population_female'             : Female Population\n",
    "\n",
    "'0-6_population_total'          : 0-6 Age Total Population\n",
    "\n",
    "'0-6_population_male'           : 0-6 Age Male Population\n",
    "\n",
    "\n",
    "'0-6_population_female'         : 0-6 Age Female Population\n",
    "\n",
    "'literates_total'               : Total Literates\n",
    "\n",
    "'literates_male'                : Male Literates\n",
    "\n",
    "'literates_female'              : Female Literates \n",
    "\n",
    "'sex_ratio'                     : Sex Ratio \n",
    "\n",
    "'child_sex_ratio'               : Sex ratio in 0-6\n",
    "\n",
    "\n",
    "\n",
    "'effective_literacy_rate_total' : Literacy rate over Age 7 \n",
    "\n",
    "'effective_literacy_rate_male'  : Male Literacy rate over Age 7 \n",
    "\n",
    "'effective_literacy_rate_female': Female Literacy rate over Age 7 \n",
    "\n",
    "'location'                      : Lat,Lng\n",
    "\n",
    "'total_graduates'               : Total Number of Graduates\n",
    "\n",
    "'male_graduates'                : Male Graduates \n",
    "\n",
    "'female_graduates'              : Female Graduates"
   ]
  },
  {
   "cell_type": "markdown",
   "metadata": {
    "colab_type": "raw",
    "id": "wEgYP9-oW0cg"
   },
   "source": [
    "## Kindly change the below cells from markdown to code and execute it "
   ]
  },
  {
   "cell_type": "markdown",
   "metadata": {
    "colab_type": "raw",
    "id": "VQ_WA9jKW0ch"
   },
   "source": [
    "import pandas as pd\n",
    "\n",
    "import csv\n",
    "\n",
    "with open(\"data_set.csv\",\"r\")as file:\n",
    "    \n",
    "    reader=csv.reader(file)\n",
    "\n",
    "df=pd.read_csv(\"data_set.csv\")\n",
    "\n",
    "df.head()\n"
   ]
  },
  {
   "cell_type": "code",
   "execution_count": null,
   "metadata": {
    "colab": {},
    "colab_type": "code",
    "id": "sgjG1x2cgPjo",
    "outputId": "806131b6-ffb3-4638-927b-db54fe7d7f30",
    "scrolled": false
   },
   "outputs": [
    {
     "data": {
      "text/html": [
       "<div>\n",
       "<style scoped>\n",
       "    .dataframe tbody tr th:only-of-type {\n",
       "        vertical-align: middle;\n",
       "    }\n",
       "\n",
       "    .dataframe tbody tr th {\n",
       "        vertical-align: top;\n",
       "    }\n",
       "\n",
       "    .dataframe thead th {\n",
       "        text-align: right;\n",
       "    }\n",
       "</style>\n",
       "<table border=\"1\" class=\"dataframe\">\n",
       "  <thead>\n",
       "    <tr style=\"text-align: right;\">\n",
       "      <th></th>\n",
       "      <th>checkin_acc</th>\n",
       "      <th>duration</th>\n",
       "      <th>credit_history</th>\n",
       "      <th>amount</th>\n",
       "      <th>savings_acc</th>\n",
       "      <th>present_emp_since</th>\n",
       "      <th>inst_rate</th>\n",
       "      <th>personal_status</th>\n",
       "      <th>residing_since</th>\n",
       "      <th>age</th>\n",
       "      <th>inst_plans</th>\n",
       "      <th>num_credits</th>\n",
       "      <th>job</th>\n",
       "      <th>status</th>\n",
       "    </tr>\n",
       "  </thead>\n",
       "  <tbody>\n",
       "    <tr>\n",
       "      <th>0</th>\n",
       "      <td>A11</td>\n",
       "      <td>6</td>\n",
       "      <td>A34</td>\n",
       "      <td>1169</td>\n",
       "      <td>A65</td>\n",
       "      <td>A75</td>\n",
       "      <td>4</td>\n",
       "      <td>A93</td>\n",
       "      <td>4</td>\n",
       "      <td>67</td>\n",
       "      <td>A143</td>\n",
       "      <td>2</td>\n",
       "      <td>A173</td>\n",
       "      <td>0</td>\n",
       "    </tr>\n",
       "  </tbody>\n",
       "</table>\n",
       "</div>"
      ],
      "text/plain": [
       "  checkin_acc  duration credit_history  amount savings_acc present_emp_since  \\\n",
       "0         A11         6            A34    1169         A65               A75   \n",
       "\n",
       "   inst_rate personal_status  residing_since  age inst_plans  num_credits  \\\n",
       "0          4             A93               4   67       A143            2   \n",
       "\n",
       "    job  status  \n",
       "0  A173       0  "
      ]
     },
     "execution_count": 160,
     "metadata": {
      "tags": []
     },
     "output_type": "execute_result"
    }
   ],
   "source": [
    "German_Credit_Data = df.iloc[:, 22:36]\n",
    "German_Credit_Data.head(1)"
   ]
  },
  {
   "cell_type": "code",
   "execution_count": null,
   "metadata": {
    "colab": {},
    "colab_type": "code",
    "id": "T-rT0T7agPjs",
    "outputId": "74c37746-9966-4470-82a0-00fc7cafbc55",
    "scrolled": true
   },
   "outputs": [
    {
     "data": {
      "text/html": [
       "<div>\n",
       "<style scoped>\n",
       "    .dataframe tbody tr th:only-of-type {\n",
       "        vertical-align: middle;\n",
       "    }\n",
       "\n",
       "    .dataframe tbody tr th {\n",
       "        vertical-align: top;\n",
       "    }\n",
       "\n",
       "    .dataframe thead th {\n",
       "        text-align: right;\n",
       "    }\n",
       "</style>\n",
       "<table border=\"1\" class=\"dataframe\">\n",
       "  <thead>\n",
       "    <tr style=\"text-align: right;\">\n",
       "      <th></th>\n",
       "      <th>year</th>\n",
       "      <th>region</th>\n",
       "      <th>npg</th>\n",
       "      <th>birth_rate</th>\n",
       "      <th>death_rate</th>\n",
       "      <th>migratory_growth</th>\n",
       "      <th>population</th>\n",
       "    </tr>\n",
       "  </thead>\n",
       "  <tbody>\n",
       "    <tr>\n",
       "      <th>0</th>\n",
       "      <td>1990</td>\n",
       "      <td>Republic of Adygea</td>\n",
       "      <td>1.9</td>\n",
       "      <td>14.2</td>\n",
       "      <td>12.3</td>\n",
       "      <td>NaN</td>\n",
       "      <td>434788.0</td>\n",
       "    </tr>\n",
       "  </tbody>\n",
       "</table>\n",
       "</div>"
      ],
      "text/plain": [
       "   year              region  npg  birth_rate  death_rate  migratory_growth  \\\n",
       "0  1990  Republic of Adygea  1.9        14.2        12.3               NaN   \n",
       "\n",
       "   population  \n",
       "0    434788.0  "
      ]
     },
     "execution_count": 161,
     "metadata": {
      "tags": []
     },
     "output_type": "execute_result"
    }
   ],
   "source": [
    "data_eda = df.iloc[:, 36:]\n",
    "data_eda.head(1)"
   ]
  },
  {
   "cell_type": "code",
   "execution_count": null,
   "metadata": {
    "colab": {},
    "colab_type": "code",
    "id": "Nqm1nd1EgPju",
    "outputId": "47de0fbc-a04f-467c-980e-8d8c97acaef7",
    "scrolled": true
   },
   "outputs": [
    {
     "data": {
      "text/html": [
       "<div>\n",
       "<style scoped>\n",
       "    .dataframe tbody tr th:only-of-type {\n",
       "        vertical-align: middle;\n",
       "    }\n",
       "\n",
       "    .dataframe tbody tr th {\n",
       "        vertical-align: top;\n",
       "    }\n",
       "\n",
       "    .dataframe thead th {\n",
       "        text-align: right;\n",
       "    }\n",
       "</style>\n",
       "<table border=\"1\" class=\"dataframe\">\n",
       "  <thead>\n",
       "    <tr style=\"text-align: right;\">\n",
       "      <th></th>\n",
       "      <th>name_of_city</th>\n",
       "      <th>state_code</th>\n",
       "      <th>state_name</th>\n",
       "      <th>dist_code</th>\n",
       "      <th>population_total</th>\n",
       "      <th>population_male</th>\n",
       "      <th>population_female</th>\n",
       "      <th>0-6_population_total</th>\n",
       "      <th>0-6_population_male</th>\n",
       "      <th>0-6_population_female</th>\n",
       "      <th>...</th>\n",
       "      <th>literates_female</th>\n",
       "      <th>sex_ratio</th>\n",
       "      <th>child_sex_ratio</th>\n",
       "      <th>effective_literacy_rate_total</th>\n",
       "      <th>effective_literacy_rate_male</th>\n",
       "      <th>effective_literacy_rate_female</th>\n",
       "      <th>location</th>\n",
       "      <th>total_graduates</th>\n",
       "      <th>male_graduates</th>\n",
       "      <th>female_graduates</th>\n",
       "    </tr>\n",
       "  </thead>\n",
       "  <tbody>\n",
       "    <tr>\n",
       "      <th>0</th>\n",
       "      <td>Abohar</td>\n",
       "      <td>3</td>\n",
       "      <td>PUNJAB</td>\n",
       "      <td>9</td>\n",
       "      <td>145238</td>\n",
       "      <td>76840</td>\n",
       "      <td>68398</td>\n",
       "      <td>15870</td>\n",
       "      <td>8587</td>\n",
       "      <td>7283</td>\n",
       "      <td>...</td>\n",
       "      <td>44972</td>\n",
       "      <td>890</td>\n",
       "      <td>848</td>\n",
       "      <td>79.86</td>\n",
       "      <td>85.49</td>\n",
       "      <td>73.59</td>\n",
       "      <td>30.1452928,74.1993043</td>\n",
       "      <td>16287</td>\n",
       "      <td>8612</td>\n",
       "      <td>7675</td>\n",
       "    </tr>\n",
       "  </tbody>\n",
       "</table>\n",
       "<p>1 rows × 22 columns</p>\n",
       "</div>"
      ],
      "text/plain": [
       "  name_of_city  state_code state_name  dist_code  population_total  \\\n",
       "0      Abohar            3     PUNJAB          9            145238   \n",
       "\n",
       "   population_male  population_female  0-6_population_total  \\\n",
       "0            76840              68398                 15870   \n",
       "\n",
       "   0-6_population_male  0-6_population_female  ...  literates_female  \\\n",
       "0                 8587                   7283  ...             44972   \n",
       "\n",
       "   sex_ratio  child_sex_ratio  effective_literacy_rate_total  \\\n",
       "0        890              848                          79.86   \n",
       "\n",
       "   effective_literacy_rate_male  effective_literacy_rate_female  \\\n",
       "0                         85.49                           73.59   \n",
       "\n",
       "                location  total_graduates male_graduates  female_graduates  \n",
       "0  30.1452928,74.1993043            16287           8612              7675  \n",
       "\n",
       "[1 rows x 22 columns]"
      ]
     },
     "execution_count": 162,
     "metadata": {
      "tags": []
     },
     "output_type": "execute_result"
    }
   ],
   "source": [
    "Indian_cities = df.iloc[:, :22]\n",
    "Indian_cities.head(1)"
   ]
  },
  {
   "cell_type": "markdown",
   "metadata": {
    "colab_type": "text",
    "id": "4axsLwOTgPjw"
   },
   "source": [
    "-----------------\n",
    "# SECTION A: 20 MARKS\n",
    "--------------"
   ]
  },
  {
   "cell_type": "markdown",
   "metadata": {
    "colab_type": "text",
    "id": "vH6tVYAJgPjw"
   },
   "source": [
    "### 1. Read the dataset(German Credit Data) answer the questions below\n",
    "  \n",
    " A) Draw the Count Plot for the 'Status' Column? (1 Marks)\n",
    "  \n",
    " B) Split the Dataset into Train and Test. Also give us the reason behind your split (2 Marks)\n",
    "  \n",
    " C) Is the Data imbalanced ? If so what types of sampling methods can be used and Write the code for any one type of sampling (No need to execute)? (2 Marks)\""
   ]
  },
  {
   "cell_type": "code",
   "execution_count": null,
   "metadata": {
    "colab": {},
    "colab_type": "code",
    "id": "_3kLa5KjgPjx"
   },
   "outputs": [],
   "source": []
  },
  {
   "cell_type": "markdown",
   "metadata": {
    "colab_type": "text",
    "id": "-yerAmPMgPjz"
   },
   "source": [
    "### 2. Read the dataset(German Credit Data.csv) answer the questions below\n",
    "    \n",
    "A) Draw the Count Plot for 'Checkin_acc' Column? (1 Marks)\n",
    "\n",
    "B) How does the distribution of the 'Age' column look like and perform the test of Normality? (2 Marks)\n",
    "\n",
    "C) How do you handle object variables? Write down the code for encoding? (2 Marks)\n",
    "\n",
    "\n",
    "\n",
    "\n",
    "\n",
    "\n",
    "\n",
    "\n",
    "\n",
    "\n",
    "\n",
    "\n",
    "\n",
    "\n",
    "\n"
   ]
  },
  {
   "cell_type": "code",
   "execution_count": null,
   "metadata": {
    "colab": {},
    "colab_type": "code",
    "id": "uic0jHSkgPjz"
   },
   "outputs": [],
   "source": []
  },
  {
   "cell_type": "markdown",
   "metadata": {
    "colab_type": "text",
    "id": "s2vsz2R2gPj2"
   },
   "source": [
    "### 3.  Read the dataset(data_eda) answer the questions below\n",
    "\n",
    "\n",
    "  \n",
    " a. Check if there is correlation between the variables and write down your observations. (3 marks)\n",
    "  \n",
    " b. Identify regions which saw an increase or decrease in migration using appropriate plots. (2 marks)"
   ]
  },
  {
   "cell_type": "code",
   "execution_count": null,
   "metadata": {
    "colab": {},
    "colab_type": "code",
    "id": "O6tZkYVDgPj2"
   },
   "outputs": [],
   "source": []
  },
  {
   "cell_type": "markdown",
   "metadata": {
    "colab_type": "text",
    "id": "kacWo00QgPj5"
   },
   "source": [
    "### 4. Read the dataset(data_eda) answer the questions below"
   ]
  },
  {
   "cell_type": "markdown",
   "metadata": {
    "colab_type": "text",
    "id": "5NaOimUFgPj5"
   },
   "source": [
    "##### A.\tIdentify the trend in the growth of population using appropriate plots and write down the observations based on increase or decrease in population over the years. (5 marks)"
   ]
  },
  {
   "cell_type": "code",
   "execution_count": null,
   "metadata": {
    "colab": {},
    "colab_type": "code",
    "id": "UOEv-TkVgPj5"
   },
   "outputs": [],
   "source": []
  },
  {
   "cell_type": "markdown",
   "metadata": {
    "colab_type": "text",
    "id": "saxKDI6ogPj7"
   },
   "source": [
    "---------------\n",
    "# SECTION B: 20 MARKS\n",
    "------------"
   ]
  },
  {
   "cell_type": "markdown",
   "metadata": {
    "colab_type": "text",
    "id": "eAAtSivdgPj8"
   },
   "source": [
    "### 5. Read the dataset(data_eda) answer the questions below\n",
    "\n",
    " A. Separate categorical data and numerical data also each category number of percentages.(5 Marks)\n",
    "  \n",
    " a. Display the count of each variable, null values, distinct values, missing_ratio, skewness and kurtosis in a tabular form. (9 marks) \n",
    "  \n",
    " b. Plot the distribution of npg, migratory_growth, birth_date and death_rate and check for outliers. Impute the missing values for the column which has more than 25% missing ratio. (6 marks)\""
   ]
  },
  {
   "cell_type": "code",
   "execution_count": null,
   "metadata": {
    "colab": {},
    "colab_type": "code",
    "id": "cR-I41LggPj8"
   },
   "outputs": [],
   "source": []
  },
  {
   "cell_type": "markdown",
   "metadata": {
    "colab_type": "text",
    "id": "2-LGoT2SgPj-"
   },
   "source": [
    "------------\n",
    "# SECTION C: 30 MARKS\n",
    "\n",
    "-------------------"
   ]
  },
  {
   "cell_type": "markdown",
   "metadata": {
    "colab_type": "text",
    "id": "MwgvFct5gPj_"
   },
   "source": [
    "### 6. Read the dataset(Indian_cities) answer the questions below\n",
    "  \n",
    "  \n",
    " a. Plot the distribution of sex ratio and child-sex ratio and state your observations. (Use two separate plots) (5 marks)\n",
    "  \n",
    " b. Identify the top 5 and bottom 5 cities in terms of the number of female graduates (Use two separate plots (5 marks)\""
   ]
  },
  {
   "cell_type": "code",
   "execution_count": null,
   "metadata": {
    "colab": {},
    "colab_type": "code",
    "id": "dGgJQvHrgPj_"
   },
   "outputs": [],
   "source": []
  },
  {
   "cell_type": "markdown",
   "metadata": {
    "colab_type": "text",
    "id": "vicRNY0fgPkB"
   },
   "source": [
    "### 7. Read the dataset(Indian_cities) answer the questions below\n",
    "  \n",
    "  \n",
    " a. Plot the 5 states having lowest sex ratio (3 marks)\n",
    "  \n",
    " b. Identify the top 5 cities which have higher ratio of male to female effective literacy rate (2 marks) \n",
    "  \n",
    "  \n",
    " c. Split the column location into two columns ‘latitude’ and ‘longitude’ and replace the location column with the two newly created columns in the original dataframe. (5 marks)\""
   ]
  },
  {
   "cell_type": "code",
   "execution_count": null,
   "metadata": {
    "colab": {},
    "colab_type": "code",
    "id": "h9niim1qgPkC"
   },
   "outputs": [],
   "source": []
  }
 ],
 "metadata": {
  "colab": {
   "name": "EDA_FINAL_EXAM_SET_3_PAPER.ipynb",
   "provenance": []
  },
  "kernelspec": {
   "display_name": "Python 3",
   "language": "python",
   "name": "python3"
  },
  "language_info": {
   "codemirror_mode": {
    "name": "ipython",
    "version": 3
   },
   "file_extension": ".py",
   "mimetype": "text/x-python",
   "name": "python",
   "nbconvert_exporter": "python",
   "pygments_lexer": "ipython3",
   "version": "3.8.5"
  }
 },
 "nbformat": 4,
 "nbformat_minor": 1
}
